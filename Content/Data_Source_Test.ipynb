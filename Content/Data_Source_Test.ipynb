{
  "nbformat": 4,
  "nbformat_minor": 0,
  "metadata": {
    "colab": {
      "provenance": []
    },
    "kernelspec": {
      "name": "python3",
      "display_name": "Python 3"
    },
    "language_info": {
      "name": "python"
    }
  },
  "cells": [
    {
      "cell_type": "code",
      "execution_count": 2,
      "metadata": {
        "colab": {
          "base_uri": "https://localhost:8080/"
        },
        "id": "KCtcKZkbQC4S",
        "outputId": "827820d6-2100-48a9-d00a-22620f159e84"
      },
      "outputs": [
        {
          "output_type": "stream",
          "name": "stdout",
          "text": [
            "Página 1 descargada con 50 commits. Total: 50\n",
            "Página 2 descargada con 50 commits. Total: 100\n",
            "Página 3 descargada con 50 commits. Total: 150\n",
            "Página 4 descargada con 50 commits. Total: 200\n",
            "Página 5 descargada con 50 commits. Total: 250\n",
            "Página 6 descargada con 50 commits. Total: 300\n",
            "Página 7 descargada con 4 commits. Total: 304\n",
            "No hay más commits para obtener.\n",
            "rchivo commits.json guardado.\n"
          ]
        }
      ],
      "source": [
        "import requests\n",
        "import time\n",
        "import json\n",
        "\n",
        "\n",
        "GITHUB_TOKEN = \"token\"\n",
        "\n",
        "# Repo consultado\n",
        "owner = \"dipucriodigital\"\n",
        "repo = \"engenharia-de-software\"\n",
        "\n",
        "# Endpoint de commits\n",
        "url = f\"https://api.github.com/repos/{owner}/{repo}/commits\"\n",
        "\n",
        "# Headers con token\n",
        "headers = {\n",
        "    \"Authorization\": f\"Bearer {GITHUB_TOKEN}\",\n",
        "    \"X-GitHub-Api-Version\": \"2022-11-28\",\n",
        "    \"Accept\": \"application/vnd.github+json\"\n",
        "}\n",
        "\n",
        "all_commits = []\n",
        "page = 1\n",
        "per_page = 50  # máximo 100\n",
        "\n",
        "while True:\n",
        "    url = f\"https://api.github.com/repos/{owner}/{repo}/commits?per_page={per_page}&page={page}\"\n",
        "    response = requests.get(url, headers=headers)\n",
        "\n",
        "    #rate limit\n",
        "    remaining = int(response.headers.get(\"X-RateLimit-Remaining\", 0))\n",
        "    reset_time = int(response.headers.get(\"X-RateLimit-Reset\", 0))\n",
        "\n",
        "    if response.status_code == 403 and remaining == 0:\n",
        "        wait_seconds = reset_time - int(time.time()) + 5\n",
        "        print(f\"Rate limit alcanzado, esperando {wait_seconds} segundos...\")\n",
        "        time.sleep(wait_seconds)\n",
        "        continue\n",
        "\n",
        "    if response.status_code != 200:\n",
        "        print(f\"Error {response.status_code}: {response.text}\")\n",
        "        break\n",
        "\n",
        "    commits = response.json()\n",
        "    if not commits:\n",
        "        print(\"No hay más commits para obtener.\")\n",
        "        break\n",
        "\n",
        "    all_commits.extend(commits)\n",
        "    print(f\"Página {page} descargada con {len(commits)} commits. Total: {len(all_commits)}\")\n",
        "    page += 1\n",
        "\n",
        "# Guardar resultado en archivo JSON\n",
        "with open(\"commits.json\", \"w\") as f:\n",
        "    json.dump(all_commits, f, indent=2)\n",
        "\n",
        "print(\"rchivo commits.json guardado.\")"
      ]
    }
  ]
}
